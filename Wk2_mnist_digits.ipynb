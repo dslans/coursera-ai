{
  "nbformat": 4,
  "nbformat_minor": 0,
  "metadata": {
    "colab": {
      "name": "Wk2-mnist-digits.ipynb",
      "version": "0.3.2",
      "provenance": [],
      "collapsed_sections": [],
      "include_colab_link": true
    },
    "kernelspec": {
      "name": "python3",
      "display_name": "Python 3"
    }
  },
  "cells": [
    {
      "cell_type": "markdown",
      "metadata": {
        "id": "view-in-github",
        "colab_type": "text"
      },
      "source": [
        "<a href=\"https://colab.research.google.com/github/dslans/coursera-ai/blob/master/Wk2_mnist_digits.ipynb\" target=\"_parent\"><img src=\"https://colab.research.google.com/assets/colab-badge.svg\" alt=\"Open In Colab\"/></a>"
      ]
    },
    {
      "cell_type": "markdown",
      "metadata": {
        "id": "ab8NyG34V_AX",
        "colab_type": "text"
      },
      "source": [
        "# Exercise 2: MNIST Handwritten Digits\n",
        "Classify digits 0-9 using training images from MNIST data set\n",
        "\n",
        "Write an MNIST classifier that trains to 99% accuracy or above, and does it without a fixed number of epochs -- i.e. you should stop training once you reach that level of accuracy.\n",
        "\n",
        "Some notes:\n",
        "\n",
        "1. It should succeed in less than 10 epochs, so it is okay to change epochs= to 10, but nothing larger\n",
        "2. When it reaches 99% or greater it should print out the string \"Reached 99% accuracy so cancelling training!\"\n",
        "3. If you add any additional variables, make sure you use the same names as the ones used in the class\n"
      ]
    },
    {
      "cell_type": "code",
      "metadata": {
        "id": "BhxGob1KWUR7",
        "colab_type": "code",
        "colab": {}
      },
      "source": [
        "## Import Modules\n",
        "import tensorflow as tf\n",
        "from os import path, getcwd, chdir\n",
        "\n"
      ],
      "execution_count": 0,
      "outputs": []
    },
    {
      "cell_type": "code",
      "metadata": {
        "id": "Ayq9A_s0e1Cj",
        "colab_type": "code",
        "colab": {}
      },
      "source": [
        "def train_mnist():\n",
        "  \n",
        "  # Define Callbacks\n",
        "  class myCallback(tf.keras.callbacks.Callback):\n",
        "    def on_epoch_end(self, epoch, logs={}):\n",
        "      if(logs.get('acc')>0.99):\n",
        "        print(\"\\nReached 99% already!\")\n",
        "        self.model.stop_training=True\n",
        "\n",
        "  callbacks = myCallback()\n",
        "  \n",
        "  # import data\n",
        "  mnist = tf.keras.datasets.mnist\n",
        "\n",
        "  # assign training and test data sets\n",
        "  (x_train, y_train), (x_test, y_test) = mnist.load_data()\n",
        "  \n",
        "  # Normalize pixels\n",
        "  x_train = x_train / 255.0\n",
        "  x_test = x_test / 255.0\n",
        "  \n",
        "  # Define model\n",
        "  model = tf.keras.models.Sequential([\n",
        "    tf.keras.layers.Flatten(input_shape=(28, 28)),\n",
        "    tf.keras.layers.Dense(512, activation=tf.nn.relu),\n",
        "    tf.keras.layers.Dense(10, activation=tf.nn.softmax)\n",
        "  ])\n",
        "  \n",
        "  # compile model\n",
        "  model.compile(optimizer='adam',\n",
        "             loss='sparse_categorical_crossentropy',\n",
        "             metrics=['accuracy'])\n",
        "  \n",
        "  # save history\n",
        "  history = model.fit(x_train, y_train, epochs=10, callbacks=[callbacks])\n",
        "  \n",
        "  return history.epoch, history.history['acc'][-1]"
      ],
      "execution_count": 0,
      "outputs": []
    },
    {
      "cell_type": "code",
      "metadata": {
        "id": "EmTWWvaPfcnb",
        "colab_type": "code",
        "colab": {
          "base_uri": "https://localhost:8080/",
          "height": 238
        },
        "outputId": "0447651f-8a0a-458c-eb4c-da6e62d6e875"
      },
      "source": [
        "train_mnist()"
      ],
      "execution_count": 61,
      "outputs": [
        {
          "output_type": "stream",
          "text": [
            "Epoch 1/10\n",
            "60000/60000 [==============================] - 10s 159us/sample - loss: 0.1991 - acc: 0.9414\n",
            "Epoch 2/10\n",
            "60000/60000 [==============================] - 10s 163us/sample - loss: 0.0795 - acc: 0.9748\n",
            "Epoch 3/10\n",
            "60000/60000 [==============================] - 10s 162us/sample - loss: 0.0518 - acc: 0.9833\n",
            "Epoch 4/10\n",
            "60000/60000 [==============================] - 10s 160us/sample - loss: 0.0371 - acc: 0.9881\n",
            "Epoch 5/10\n",
            "59872/60000 [============================>.] - ETA: 0s - loss: 0.0274 - acc: 0.9914\n",
            "Reached 99% already!\n",
            "60000/60000 [==============================] - 9s 158us/sample - loss: 0.0274 - acc: 0.9914\n"
          ],
          "name": "stdout"
        },
        {
          "output_type": "execute_result",
          "data": {
            "text/plain": [
              "([0, 1, 2, 3, 4], 0.9914167)"
            ]
          },
          "metadata": {
            "tags": []
          },
          "execution_count": 61
        }
      ]
    }
  ]
}